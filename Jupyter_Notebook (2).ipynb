{
 "cells": [
  {
   "cell_type": "markdown",
   "metadata": {},
   "source": [
    "<center>\n",
    "    <img src=\"https://s3-api.us-geo.objectstorage.softlayer.net/cf-courses-data/CognitiveClass/Logos/organization_logo/organization_logo.png\" width=\"300\" alt=\"cognitiveclass.ai logo\"  />\n",
    "</center>\n"
   ]
  },
  {
   "cell_type": "markdown",
   "metadata": {},
   "source": [
    "#### Add your code below following the instructions given in the course\n"
   ]
  },
  {
   "cell_type": "markdown",
   "metadata": {},
   "source": [
    "# My Jupyter Notebook on IBM Watson Studio"
   ]
  },
  {
   "cell_type": "markdown",
   "metadata": {},
   "source": [
    "__Jason Tzimas__ <br> CAD/CAM technical support engineer"
   ]
  },
  {
   "cell_type": "markdown",
   "metadata": {},
   "source": [
    "_I am interested in Data Science because of its immense capabilities to improve life quality, its multidisciplinary nature and the extensive relationship it has with applied mathematics and programming, both of which I love._"
   ]
  },
  {
   "cell_type": "markdown",
   "metadata": {},
   "source": [
    "### The following code snippet finds the average of the integer list L_int = [4, 8, 9, 11, 23, 2, 2, 1]\n"
   ]
  },
  {
   "cell_type": "code",
   "execution_count": 1,
   "metadata": {},
   "outputs": [
    {
     "name": "stdout",
     "output_type": "stream",
     "text": [
      "The average of the given list is:  7.5\n"
     ]
    }
   ],
   "source": [
    "L_int = [4, 8, 9, 11, 23, 2, 2, 1]\n",
    "sum = 0\n",
    "leng = len(L_int)\n",
    "for i in L_int:\n",
    "    sum += i\n",
    "\n",
    "av = sum / leng\n",
    "print(\"The average of the given list is: \", av)"
   ]
  },
  {
   "cell_type": "markdown",
   "metadata": {},
   "source": [
    "## Bulleted Items:\n",
    "* Bullet 1\n",
    "* Bullet 2\n",
    "* Bullet 3\n",
    "\n",
    "## Numbered Items:\n",
    "1. No1\n",
    "2. No2\n",
    "3. No3\n",
    "\n",
    "Above the horizontal Ruler \n",
    "***\n",
    "Under the Horizontal Ruler"
   ]
  },
  {
   "cell_type": "code",
   "execution_count": null,
   "metadata": {},
   "outputs": [],
   "source": []
  }
 ],
 "metadata": {
  "kernelspec": {
   "display_name": "Python",
   "language": "python",
   "name": "conda-env-python-py"
  },
  "language_info": {
   "codemirror_mode": {
    "name": "ipython",
    "version": 3
   },
   "file_extension": ".py",
   "mimetype": "text/x-python",
   "name": "python",
   "nbconvert_exporter": "python",
   "pygments_lexer": "ipython3",
   "version": "3.7.12"
  }
 },
 "nbformat": 4,
 "nbformat_minor": 4
}
